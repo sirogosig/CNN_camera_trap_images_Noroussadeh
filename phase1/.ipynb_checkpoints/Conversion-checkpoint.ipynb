{
 "cells": [
  {
   "cell_type": "code",
   "execution_count": 1,
   "id": "e6a59685-c1ce-4985-9037-55744db26441",
   "metadata": {},
   "outputs": [
    {
     "name": "stderr",
     "output_type": "stream",
     "text": [
      "/Users/cyrilmonette/opt/anaconda3/lib/python3.7/site-packages/tensorflow/python/framework/dtypes.py:516: FutureWarning: Passing (type, 1) or '1type' as a synonym of type is deprecated; in a future version of numpy, it will be understood as (type, (1,)) / '(1,)type'.\n",
      "  _np_qint8 = np.dtype([(\"qint8\", np.int8, 1)])\n",
      "/Users/cyrilmonette/opt/anaconda3/lib/python3.7/site-packages/tensorflow/python/framework/dtypes.py:517: FutureWarning: Passing (type, 1) or '1type' as a synonym of type is deprecated; in a future version of numpy, it will be understood as (type, (1,)) / '(1,)type'.\n",
      "  _np_quint8 = np.dtype([(\"quint8\", np.uint8, 1)])\n",
      "/Users/cyrilmonette/opt/anaconda3/lib/python3.7/site-packages/tensorflow/python/framework/dtypes.py:518: FutureWarning: Passing (type, 1) or '1type' as a synonym of type is deprecated; in a future version of numpy, it will be understood as (type, (1,)) / '(1,)type'.\n",
      "  _np_qint16 = np.dtype([(\"qint16\", np.int16, 1)])\n",
      "/Users/cyrilmonette/opt/anaconda3/lib/python3.7/site-packages/tensorflow/python/framework/dtypes.py:519: FutureWarning: Passing (type, 1) or '1type' as a synonym of type is deprecated; in a future version of numpy, it will be understood as (type, (1,)) / '(1,)type'.\n",
      "  _np_quint16 = np.dtype([(\"quint16\", np.uint16, 1)])\n",
      "/Users/cyrilmonette/opt/anaconda3/lib/python3.7/site-packages/tensorflow/python/framework/dtypes.py:520: FutureWarning: Passing (type, 1) or '1type' as a synonym of type is deprecated; in a future version of numpy, it will be understood as (type, (1,)) / '(1,)type'.\n",
      "  _np_qint32 = np.dtype([(\"qint32\", np.int32, 1)])\n",
      "/Users/cyrilmonette/opt/anaconda3/lib/python3.7/site-packages/tensorflow/python/framework/dtypes.py:525: FutureWarning: Passing (type, 1) or '1type' as a synonym of type is deprecated; in a future version of numpy, it will be understood as (type, (1,)) / '(1,)type'.\n",
      "  np_resource = np.dtype([(\"resource\", np.ubyte, 1)])\n"
     ]
    },
    {
     "name": "stdout",
     "output_type": "stream",
     "text": [
      "1.14.0\n",
      "WARNING:tensorflow:From /var/folders/w2/m4mvm5pj37107n10n7fs6sd80000gp/T/ipykernel_13080/42202190.py:7: The name tf.get_variable is deprecated. Please use tf.compat.v1.get_variable instead.\n",
      "\n",
      "WARNING:tensorflow:From /Users/cyrilmonette/opt/anaconda3/lib/python3.7/site-packages/tensorflow/python/ops/init_ops.py:1251: calling VarianceScaling.__init__ (from tensorflow.python.ops.init_ops) with dtype is deprecated and will be removed in a future version.\n",
      "Instructions for updating:\n",
      "Call initializer instance with the dtype argument instead of passing it to the constructor\n",
      "WARNING:tensorflow:From /var/folders/w2/m4mvm5pj37107n10n7fs6sd80000gp/T/ipykernel_13080/42202190.py:12: The name tf.Session is deprecated. Please use tf.compat.v1.Session instead.\n",
      "\n",
      "WARNING:tensorflow:From /var/folders/w2/m4mvm5pj37107n10n7fs6sd80000gp/T/ipykernel_13080/42202190.py:12: The name tf.ConfigProto is deprecated. Please use tf.compat.v1.ConfigProto instead.\n",
      "\n",
      "WARNING:tensorflow:From /var/folders/w2/m4mvm5pj37107n10n7fs6sd80000gp/T/ipykernel_13080/42202190.py:14: The name tf.train.import_meta_graph is deprecated. Please use tf.compat.v1.train.import_meta_graph instead.\n",
      "\n"
     ]
    },
    {
     "name": "stderr",
     "output_type": "stream",
     "text": [
      "/Users/cyrilmonette/opt/anaconda3/lib/python3.7/site-packages/tensorboard/compat/tensorflow_stub/dtypes.py:541: FutureWarning: Passing (type, 1) or '1type' as a synonym of type is deprecated; in a future version of numpy, it will be understood as (type, (1,)) / '(1,)type'.\n",
      "  _np_qint8 = np.dtype([(\"qint8\", np.int8, 1)])\n",
      "/Users/cyrilmonette/opt/anaconda3/lib/python3.7/site-packages/tensorboard/compat/tensorflow_stub/dtypes.py:542: FutureWarning: Passing (type, 1) or '1type' as a synonym of type is deprecated; in a future version of numpy, it will be understood as (type, (1,)) / '(1,)type'.\n",
      "  _np_quint8 = np.dtype([(\"quint8\", np.uint8, 1)])\n",
      "/Users/cyrilmonette/opt/anaconda3/lib/python3.7/site-packages/tensorboard/compat/tensorflow_stub/dtypes.py:543: FutureWarning: Passing (type, 1) or '1type' as a synonym of type is deprecated; in a future version of numpy, it will be understood as (type, (1,)) / '(1,)type'.\n",
      "  _np_qint16 = np.dtype([(\"qint16\", np.int16, 1)])\n",
      "/Users/cyrilmonette/opt/anaconda3/lib/python3.7/site-packages/tensorboard/compat/tensorflow_stub/dtypes.py:544: FutureWarning: Passing (type, 1) or '1type' as a synonym of type is deprecated; in a future version of numpy, it will be understood as (type, (1,)) / '(1,)type'.\n",
      "  _np_quint16 = np.dtype([(\"quint16\", np.uint16, 1)])\n",
      "/Users/cyrilmonette/opt/anaconda3/lib/python3.7/site-packages/tensorboard/compat/tensorflow_stub/dtypes.py:545: FutureWarning: Passing (type, 1) or '1type' as a synonym of type is deprecated; in a future version of numpy, it will be understood as (type, (1,)) / '(1,)type'.\n",
      "  _np_qint32 = np.dtype([(\"qint32\", np.int32, 1)])\n",
      "/Users/cyrilmonette/opt/anaconda3/lib/python3.7/site-packages/tensorboard/compat/tensorflow_stub/dtypes.py:550: FutureWarning: Passing (type, 1) or '1type' as a synonym of type is deprecated; in a future version of numpy, it will be understood as (type, (1,)) / '(1,)type'.\n",
      "  np_resource = np.dtype([(\"resource\", np.ubyte, 1)])\n",
      "2022-06-09 12:16:36.984117: I tensorflow/core/platform/cpu_feature_guard.cc:145] This TensorFlow binary is optimized with Intel(R) MKL-DNN to use the following CPU instructions in performance critical operations:  SSE4.1 SSE4.2 AVX AVX2 FMA\n",
      "To enable them in non-MKL-DNN operations, rebuild TensorFlow with the appropriate compiler flags.\n",
      "2022-06-09 12:16:36.984394: I tensorflow/core/common_runtime/process_util.cc:115] Creating new thread pool with default inter op setting: 4. Tune using inter_op_parallelism_threads for best performance.\n",
      "2022-06-09 12:16:38.639803: W tensorflow/core/graph/graph_constructor.cc:1352] Importing a graph with a lower producer version 22 into an existing graph with producer version 38. Shape inference will have run different parts of the graph with different producer versions.\n"
     ]
    },
    {
     "name": "stdout",
     "output_type": "stream",
     "text": [
      "WARNING:tensorflow:From /Users/cyrilmonette/opt/anaconda3/lib/python3.7/site-packages/tensorflow/python/training/queue_runner_impl.py:391: QueueRunner.__init__ (from tensorflow.python.training.queue_runner_impl) is deprecated and will be removed in a future version.\n",
      "Instructions for updating:\n",
      "To construct input pipelines, use the `tf.data` module.\n",
      "WARNING:tensorflow:From /Users/cyrilmonette/opt/anaconda3/lib/python3.7/site-packages/tensorflow/python/training/saver.py:1276: checkpoint_exists (from tensorflow.python.training.checkpoint_management) is deprecated and will be removed in a future version.\n",
      "Instructions for updating:\n",
      "Use standard file APIs to check for files with this prefix.\n",
      "INFO:tensorflow:Restoring parameters from saved_model_dir/snapshot-55\n"
     ]
    },
    {
     "name": "stderr",
     "output_type": "stream",
     "text": [
      "2022-06-09 12:16:59.813489: I tensorflow/core/grappler/devices.cc:60] Number of eligible GPUs (core count >= 8, compute capability >= 0.0): 0 (Note: TensorFlow was not compiled with CUDA support)\n",
      "2022-06-09 12:16:59.814037: I tensorflow/core/grappler/clusters/single_machine.cc:359] Starting new session\n",
      "2022-06-09 12:17:04.647754: I tensorflow/core/grappler/optimizers/meta_optimizer.cc:716] Optimization results for grappler item: graph_to_optimize\n",
      "2022-06-09 12:17:04.647808: I tensorflow/core/grappler/optimizers/meta_optimizer.cc:718]   function_optimizer: function_optimizer did nothing. time = 0.028ms.\n",
      "2022-06-09 12:17:04.647857: I tensorflow/core/grappler/optimizers/meta_optimizer.cc:718]   function_optimizer: function_optimizer did nothing. time = 0.01ms.\n"
     ]
    },
    {
     "name": "stdout",
     "output_type": "stream",
     "text": [
      "WARNING:tensorflow:From /Users/cyrilmonette/opt/anaconda3/lib/python3.7/site-packages/tensorflow/lite/python/util.py:238: convert_variables_to_constants (from tensorflow.python.framework.graph_util_impl) is deprecated and will be removed in a future version.\n",
      "Instructions for updating:\n",
      "Use `tf.compat.v1.graph_util.convert_variables_to_constants`\n",
      "WARNING:tensorflow:From /Users/cyrilmonette/opt/anaconda3/lib/python3.7/site-packages/tensorflow/python/framework/graph_util_impl.py:270: extract_sub_graph (from tensorflow.python.framework.graph_util_impl) is deprecated and will be removed in a future version.\n",
      "Instructions for updating:\n",
      "Use `tf.compat.v1.graph_util.extract_sub_graph`\n",
      "INFO:tensorflow:Froze 1 variables.\n",
      "INFO:tensorflow:Converted 1 variables to const ops.\n"
     ]
    },
    {
     "name": "stderr",
     "output_type": "stream",
     "text": [
      "2022-06-09 12:17:10.958363: I tensorflow/core/grappler/devices.cc:60] Number of eligible GPUs (core count >= 8, compute capability >= 0.0): 0 (Note: TensorFlow was not compiled with CUDA support)\n",
      "2022-06-09 12:17:10.958559: I tensorflow/core/grappler/clusters/single_machine.cc:359] Starting new session\n",
      "2022-06-09 12:17:10.960395: E tensorflow/core/grappler/grappler_item_builder.cc:631] Fetch node conv1 doesn't exist in graph\n"
     ]
    },
    {
     "ename": "ValueError",
     "evalue": "Unsupported tf.dtype <dtype: 'float32_ref'>",
     "output_type": "error",
     "traceback": [
      "\u001b[0;31m---------------------------------------------------------------------------\u001b[0m",
      "\u001b[0;31mValueError\u001b[0m                                Traceback (most recent call last)",
      "\u001b[0;32m/var/folders/w2/m4mvm5pj37107n10n7fs6sd80000gp/T/ipykernel_13080/42202190.py\u001b[0m in \u001b[0;36m<module>\u001b[0;34m\u001b[0m\n\u001b[1;32m     17\u001b[0m     \u001b[0;31m# Convert the model\u001b[0m\u001b[0;34m\u001b[0m\u001b[0;34m\u001b[0m\u001b[0;34m\u001b[0m\u001b[0m\n\u001b[1;32m     18\u001b[0m     \u001b[0mconverter\u001b[0m \u001b[0;34m=\u001b[0m \u001b[0mtf\u001b[0m\u001b[0;34m.\u001b[0m\u001b[0mcompat\u001b[0m\u001b[0;34m.\u001b[0m\u001b[0mv1\u001b[0m\u001b[0;34m.\u001b[0m\u001b[0mlite\u001b[0m\u001b[0;34m.\u001b[0m\u001b[0mTFLiteConverter\u001b[0m\u001b[0;34m.\u001b[0m\u001b[0mfrom_session\u001b[0m\u001b[0;34m(\u001b[0m\u001b[0msess\u001b[0m\u001b[0;34m,\u001b[0m \u001b[0minput_tensors\u001b[0m\u001b[0;34m=\u001b[0m\u001b[0;34m[\u001b[0m\u001b[0minputt\u001b[0m\u001b[0;34m]\u001b[0m\u001b[0;34m,\u001b[0m \u001b[0moutput_tensors\u001b[0m\u001b[0;34m=\u001b[0m\u001b[0;34m[\u001b[0m\u001b[0mout\u001b[0m\u001b[0;34m]\u001b[0m\u001b[0;34m)\u001b[0m\u001b[0;34m\u001b[0m\u001b[0;34m\u001b[0m\u001b[0m\n\u001b[0;32m---> 19\u001b[0;31m     \u001b[0mtflite_model\u001b[0m \u001b[0;34m=\u001b[0m \u001b[0mconverter\u001b[0m\u001b[0;34m.\u001b[0m\u001b[0mconvert\u001b[0m\u001b[0;34m(\u001b[0m\u001b[0;34m)\u001b[0m\u001b[0;34m\u001b[0m\u001b[0;34m\u001b[0m\u001b[0m\n\u001b[0m\u001b[1;32m     20\u001b[0m \u001b[0;34m\u001b[0m\u001b[0m\n\u001b[1;32m     21\u001b[0m     \u001b[0;31m# Save the model\u001b[0m\u001b[0;34m\u001b[0m\u001b[0;34m\u001b[0m\u001b[0;34m\u001b[0m\u001b[0m\n",
      "\u001b[0;32m~/opt/anaconda3/lib/python3.7/site-packages/tensorflow/lite/python/lite.py\u001b[0m in \u001b[0;36mconvert\u001b[0;34m(self)\u001b[0m\n\u001b[1;32m    896\u001b[0m           \u001b[0minput_tensors\u001b[0m\u001b[0;34m=\u001b[0m\u001b[0mself\u001b[0m\u001b[0;34m.\u001b[0m\u001b[0m_input_tensors\u001b[0m\u001b[0;34m,\u001b[0m\u001b[0;34m\u001b[0m\u001b[0;34m\u001b[0m\u001b[0m\n\u001b[1;32m    897\u001b[0m           \u001b[0moutput_tensors\u001b[0m\u001b[0;34m=\u001b[0m\u001b[0mself\u001b[0m\u001b[0;34m.\u001b[0m\u001b[0m_output_tensors\u001b[0m\u001b[0;34m,\u001b[0m\u001b[0;34m\u001b[0m\u001b[0;34m\u001b[0m\u001b[0m\n\u001b[0;32m--> 898\u001b[0;31m           **converter_kwargs)\n\u001b[0m\u001b[1;32m    899\u001b[0m     \u001b[0;32melse\u001b[0m\u001b[0;34m:\u001b[0m\u001b[0;34m\u001b[0m\u001b[0;34m\u001b[0m\u001b[0m\n\u001b[1;32m    900\u001b[0m       result = _toco_convert_graph_def(\n",
      "\u001b[0;32m~/opt/anaconda3/lib/python3.7/site-packages/tensorflow/lite/python/convert.py\u001b[0m in \u001b[0;36mtoco_convert_impl\u001b[0;34m(input_data, input_tensors, output_tensors, *args, **kwargs)\u001b[0m\n\u001b[1;32m    399\u001b[0m   \"\"\"\n\u001b[1;32m    400\u001b[0m   model_flags, toco_flags = build_toco_convert_protos(\n\u001b[0;32m--> 401\u001b[0;31m       input_tensors, output_tensors, *args, **kwargs)\n\u001b[0m\u001b[1;32m    402\u001b[0m   data = toco_convert_protos(model_flags.SerializeToString(),\n\u001b[1;32m    403\u001b[0m                              \u001b[0mtoco_flags\u001b[0m\u001b[0;34m.\u001b[0m\u001b[0mSerializeToString\u001b[0m\u001b[0;34m(\u001b[0m\u001b[0;34m)\u001b[0m\u001b[0;34m,\u001b[0m\u001b[0;34m\u001b[0m\u001b[0;34m\u001b[0m\u001b[0m\n",
      "\u001b[0;32m~/opt/anaconda3/lib/python3.7/site-packages/tensorflow/lite/python/convert.py\u001b[0m in \u001b[0;36mbuild_toco_convert_protos\u001b[0;34m(input_tensors, output_tensors, inference_type, inference_input_type, input_format, input_shapes, output_format, quantized_input_stats, default_ranges_stats, drop_control_dependency, reorder_across_fake_quant, allow_custom_ops, change_concat_input_ranges, post_training_quantize, dump_graphviz_dir, dump_graphviz_video, target_ops, allow_nonexistent_arrays)\u001b[0m\n\u001b[1;32m    302\u001b[0m     \u001b[0minput_array\u001b[0m\u001b[0;34m.\u001b[0m\u001b[0mname\u001b[0m \u001b[0;34m=\u001b[0m \u001b[0mutil\u001b[0m\u001b[0;34m.\u001b[0m\u001b[0mget_tensor_name\u001b[0m\u001b[0;34m(\u001b[0m\u001b[0minput_tensor\u001b[0m\u001b[0;34m)\u001b[0m\u001b[0;34m\u001b[0m\u001b[0;34m\u001b[0m\u001b[0m\n\u001b[1;32m    303\u001b[0m     input_array.data_type = util.convert_dtype_to_tflite_type(\n\u001b[0;32m--> 304\u001b[0;31m         input_tensor.dtype)\n\u001b[0m\u001b[1;32m    305\u001b[0m \u001b[0;34m\u001b[0m\u001b[0m\n\u001b[1;32m    306\u001b[0m     \u001b[0;32mif\u001b[0m \u001b[0mtoco\u001b[0m\u001b[0;34m.\u001b[0m\u001b[0minference_input_type\u001b[0m \u001b[0;34m==\u001b[0m \u001b[0m_types_pb2\u001b[0m\u001b[0;34m.\u001b[0m\u001b[0mQUANTIZED_UINT8\u001b[0m\u001b[0;34m:\u001b[0m\u001b[0;34m\u001b[0m\u001b[0;34m\u001b[0m\u001b[0m\n",
      "\u001b[0;32m~/opt/anaconda3/lib/python3.7/site-packages/tensorflow/lite/python/util.py\u001b[0m in \u001b[0;36mconvert_dtype_to_tflite_type\u001b[0;34m(tf_dtype)\u001b[0m\n\u001b[1;32m     56\u001b[0m   \u001b[0mresult\u001b[0m \u001b[0;34m=\u001b[0m \u001b[0m_MAP_TF_TO_TFLITE_TYPES\u001b[0m\u001b[0;34m.\u001b[0m\u001b[0mget\u001b[0m\u001b[0;34m(\u001b[0m\u001b[0mtf_dtype\u001b[0m\u001b[0;34m)\u001b[0m\u001b[0;34m\u001b[0m\u001b[0;34m\u001b[0m\u001b[0m\n\u001b[1;32m     57\u001b[0m   \u001b[0;32mif\u001b[0m \u001b[0mresult\u001b[0m \u001b[0;32mis\u001b[0m \u001b[0;32mNone\u001b[0m\u001b[0;34m:\u001b[0m\u001b[0;34m\u001b[0m\u001b[0;34m\u001b[0m\u001b[0m\n\u001b[0;32m---> 58\u001b[0;31m     \u001b[0;32mraise\u001b[0m \u001b[0mValueError\u001b[0m\u001b[0;34m(\u001b[0m\u001b[0;34m\"Unsupported tf.dtype {0}\"\u001b[0m\u001b[0;34m.\u001b[0m\u001b[0mformat\u001b[0m\u001b[0;34m(\u001b[0m\u001b[0mtf_dtype\u001b[0m\u001b[0;34m)\u001b[0m\u001b[0;34m)\u001b[0m\u001b[0;34m\u001b[0m\u001b[0;34m\u001b[0m\u001b[0m\n\u001b[0m\u001b[1;32m     59\u001b[0m   \u001b[0;32mreturn\u001b[0m \u001b[0mresult\u001b[0m\u001b[0;34m\u001b[0m\u001b[0;34m\u001b[0m\u001b[0m\n\u001b[1;32m     60\u001b[0m \u001b[0;34m\u001b[0m\u001b[0m\n",
      "\u001b[0;31mValueError\u001b[0m: Unsupported tf.dtype <dtype: 'float32_ref'>"
     ]
    }
   ],
   "source": [
    "import tensorflow as tf\n",
    "import numpy as np\n",
    "print(tf.__version__)\n",
    "\n",
    "\n",
    "#img = tf.placeholder(name='img',dtype=tf.float32,shape=(1, 224, 224, 3))\n",
    "inputt=tf.get_variable('conv0', shape=(1, 224, 224, 3))\n",
    "out = tf.get_variable('output', shape=(2,1))\n",
    "#val = img + var\n",
    "#out = tf.identity(val, name='out')\n",
    "\n",
    "with tf.Session(config=tf.ConfigProto(allow_soft_placement=True)) as sess:\n",
    "    sess.run(tf.compat.v1.global_variables_initializer())\n",
    "    saver = tf.train.import_meta_graph('saved_model_dir/snapshot-55.meta')\n",
    "    saver.restore(sess, \"saved_model_dir/snapshot-55\")\n",
    "    \n",
    "    # Convert the model\n",
    "    converter = tf.compat.v1.lite.TFLiteConverter.from_session(sess, input_tensors=[inputt], output_tensors=[out])\n",
    "    tflite_model = converter.convert()\n",
    "\n",
    "    # Save the model\n",
    "    with open('model.tflite', 'wb') as f:\n",
    "        f.write(tflite_model)\n",
    "\n",
    "        \n",
    "        \n",
    "#img = tf.compat.v1.placeholder(name='img', dtype=tf.float32, shape=(1, 64, 64, 3))\n",
    "#var = tf.compat.v1.get_variable('weights', dtype=tf.float32, shape=(1, 64, 64, 3))\n",
    "#val = img + var\n",
    "#out = tf.identity(val, name='out')\n",
    "\n",
    "#with tf.Session() as sess:\n",
    "#    sess.run(tf.compat.v1.global_variables_initializer())\n",
    "\n",
    "    # Convert the model.\n",
    "#    converter = tf.compat.v1.lite.TFLiteConverter.from_session(sess, [img], [out])\n",
    "#    tflite_model = converter.convert()\n",
    "\n",
    "    # Save the model.\n",
    "#    with open('model.tflite', 'wb') as f:\n",
    "#        f.write(tflite_model)\n",
    "    \n",
    "\n",
    "\n",
    "#with tf.Session(config=tf.ConfigProto(allow_soft_placement=True)) as sess:\n",
    "#    saver = tf.train.import_meta_graph('saved_model_dir/snapshot-55.meta')\n",
    "#    saver.restore(sess, \"saved_model_dir/snapshot-55\")"
   ]
  },
  {
   "cell_type": "code",
   "execution_count": 4,
   "id": "707088a3-2999-4262-a757-fbe492cf5c10",
   "metadata": {},
   "outputs": [
    {
     "name": "stdout",
     "output_type": "stream",
     "text": [
      "== Input details ==\n",
      "shape: [2 1]\n",
      "type: <class 'numpy.float32'>\n",
      "\n",
      "== Output details ==\n",
      "shape: [2 1]\n",
      "type: <class 'numpy.float32'>\n"
     ]
    },
    {
     "name": "stderr",
     "output_type": "stream",
     "text": [
      "INFO: Initialized TensorFlow Lite runtime.\n"
     ]
    }
   ],
   "source": [
    "tflite_interpreter = tf.lite.Interpreter(model_path='model.tflite')\n",
    "\n",
    "input_details = tflite_interpreter.get_input_details()\n",
    "output_details = tflite_interpreter.get_output_details()\n",
    "\n",
    "print(\"== Input details ==\")\n",
    "print(\"shape:\", input_details[0]['shape'])\n",
    "print(\"type:\", input_details[0]['dtype'])\n",
    "print(\"\\n== Output details ==\")\n",
    "print(\"shape:\", output_details[0]['shape'])\n",
    "print(\"type:\", output_details[0]['dtype'])"
   ]
  },
  {
   "cell_type": "code",
   "execution_count": 12,
   "id": "9413064d-27d1-4b96-8d0c-f3e820786bc1",
   "metadata": {},
   "outputs": [
    {
     "ename": "SyntaxError",
     "evalue": "invalid syntax (3986865025.py, line 40)",
     "output_type": "error",
     "traceback": [
      "\u001b[0;36m  File \u001b[0;32m\"/var/folders/w2/m4mvm5pj37107n10n7fs6sd80000gp/T/ipykernel_72409/3986865025.py\"\u001b[0;36m, line \u001b[0;32m40\u001b[0m\n\u001b[0;31m    model.add(tf.keras.layers.Conv2D(filters=, padding='same',strides=(1, 2, 2, 1),use_bias=True, bias_initializer=))\u001b[0m\n\u001b[0m                                             ^\u001b[0m\n\u001b[0;31mSyntaxError\u001b[0m\u001b[0;31m:\u001b[0m invalid syntax\n"
     ]
    }
   ],
   "source": [
    "import numpy as np\n",
    "import tensorflow as tf\n",
    "import architectures.vgg\n",
    "import data_loader\n",
    "import argparse\n",
    "import os\n",
    "import sys\n",
    "\n",
    "\n",
    "def spatialConvolution(x, ksize, stride, filters_out, wd= 0.0, weight_initializer= None, bias_initializer= None):\n",
    "    filters_in = x.get_shape()[-1]\n",
    "    stddev = 1./tf.sqrt(tf.cast(filters_out, tf.float32))\n",
    "    if weight_initializer is None:\n",
    "      weight_initializer = tf.random_uniform_initializer(minval= -stddev, maxval= stddev, dtype= tf.float32)\n",
    "    if bias_initializer is None:\n",
    "      bias_initializer = tf.random_uniform_initializer(minval= -stddev, maxval= stddev, dtype= tf.float32) \n",
    "\n",
    "    shape = [ksize, ksize, filters_in, filters_out]\n",
    "    weights = _get_variable('weights',\n",
    "                            shape, weight_initializer, tf.contrib.layers.l2_regularizer(wd))\n",
    "\n",
    "    conv = tf.nn.conv2d(x, weights, [1, stride, stride, 1], padding= 'SAME')\n",
    "    biases = _get_variable('biases', [filters_out],  bias_initializer)\n",
    "            \n",
    "    return tf.nn.bias_add(conv, biases)\n",
    "\n",
    "\n",
    "\n",
    "# Define the model architecture \n",
    "def create_model():\n",
    "    model = tf.keras.Sequential()\n",
    "    config = [64, 'M', 128, 'M', 256, 256, 'M', 512, 512, 'M', 512, 512, 'M']\n",
    "    \n",
    "    #network= x\n",
    "\n",
    "    for k,v in enumerate(config):\n",
    "        if v == 'M':\n",
    "            model.add(tf.keras.layers.MaxPooling2D(strides=(1,2,2,1), pool_size=(1,2,2,1),padding=\"same\"))\n",
    "        else:  \n",
    "            model.add(tf.keras.layers.Conv2D(filters=, padding='same',strides=(1, 2, 2, 1),use_bias=True, bias_initializer=))\n",
    "            model.add(tf.keras.layers.ReLU())\n",
    "            \n",
    "            with tf.variable_scope('conv'+str(k)):\n",
    "                network = common.spatialConvolution(network, 3, 1, v, 0.0)\n",
    "                network = tf.nn.relu(network)\n",
    "    \n",
    "    # Must define the input shape in the first layer of the neural network\n",
    "    model.add(tf.keras.layers.Conv2D(filters=64, kernel_size=2, padding='same', activation='relu', input_shape=(28,28,1))) \n",
    "    model.add(tf.keras.layers.MaxPooling2D(pool_size=2))\n",
    "    model.add(tf.keras.layers.Dropout(0.3))\n",
    "    model.add(tf.keras.layers.Conv2D(filters=32, kernel_size=2, padding='same', activation='relu'))\n",
    "    model.add(tf.keras.layers.MaxPooling2D(pool_size=2))\n",
    "    model.add(tf.keras.layers.Dropout(0.3))\n",
    "    model.add(tf.keras.layers.Flatten())\n",
    "    model.add(tf.keras.layers.Dense(256, activation='relu'))\n",
    "    model.add(tf.keras.layers.Dropout(0.5))\n",
    "    model.add(tf.keras.layers.Dense(10, activation='softmax'))\n",
    "    \n",
    "    #Compiling the model\n",
    "    model.compile(loss='sparse_categorical_crossentropy',optimizer='adam',metrics=['accuracy'])\n",
    "    \n",
    "    return model\n",
    "#create the model\n",
    "model_ckpt= create_model()"
   ]
  },
  {
   "cell_type": "code",
   "execution_count": null,
   "id": "206e8639-5a32-48a4-9176-66aa8c4b8e4e",
   "metadata": {},
   "outputs": [],
   "source": [
    "import numpy as np\n",
    "import tensorflow as tf\n",
    "import architectures.vgg\n",
    "import data_loader\n",
    "import argparse\n",
    "import os\n",
    "import sys\n",
    "\n",
    "f = open('val.txt', \"r\")\n",
    "filepaths = []\n",
    "labels = []\n",
    "for line in f:\n",
    "    tokens = line.split(',')\n",
    "    filepaths.append(tokens[0])\n",
    "    labels.append(int(tokens[1]))\n",
    "\n",
    "filenames = [os.path.join('/Users/cyrilmonette/Desktop/UoB\\ 2021-2022/Master\\ -\\ Biorobotique/Dissertation/CNN_camera_trap_images_Noroussadeh/phase1',i) for i in filepaths]\n",
    "\n",
    "# Create a queue that produces the filenames to read.\n",
    "filename_queue = tf.train.slice_input_producer([filenames, labels], shuffle= False,  capacity= 1024, num_epochs =1)\n",
    "\n",
    "# Read examples from files in the filename queue.\n",
    "file_content = tf.read_file(filename_queue[0])\n",
    "# Read JPEG or PNG or GIF image from file\n",
    "reshaped_image = tf.to_float(tf.image.decode_jpeg(file_content, channels=3))\n",
    "# Resize image to 256*256\n",
    "reshaped_image = tf.image.resize_images(reshaped_image, [256,256])\n",
    "\n",
    "label = tf.cast(filename_queue[1], tf.int64)\n",
    "#img_info = filename_queue[0]\n",
    "\n",
    "resized_image = tf.image.resize_image_with_crop_or_pad(reshaped_image,224,224)\n",
    "\n",
    "\n",
    "# Subtract off the mean and divide by the variance of the pixels.\n",
    "float_image = tf.image.per_image_standardization(resized_image)\n",
    "\n",
    "# Set the shapes of tensors.\n",
    "float_image.set_shape([224, 224, 3])\n",
    "\n",
    "min_fraction_of_examples_in_queue = 0.4\n",
    "min_queue_examples = int(5000*min_fraction_of_examples_in_queue)\n",
    "\n",
    "batch_size = 512\n",
    "\n",
    "\n",
    "images, label_batch = tf.train.batch(\n",
    "        [float_image, label],\n",
    "        batch_size= batch_size,\n",
    "        allow_smaller_final_batch= True,\n",
    "        num_threads=20,\n",
    "        capacity=min_queue_examples+3 * batch_size)\n",
    "\n",
    "model_latest_checkpoint = architectures.vgg.inference(images, 2, 0.0, 1, False)\n",
    "\n",
    "#inference(x, num_output, wd, dropout_rate, is_training, transfer_mode= False, model_type= 'A')\n",
    "\n",
    "# Load the previously saved weights\n",
    "model_latest_checkpoint.load_weights(trained_model)\n",
    "\n",
    "# Re-evaluate the model\n",
    "#loss, acc = model_latest_checkpoint.evaluate(test_images,  test_labels, verbose=2)\n",
    "#print(\"Restored model, accuracy: {:5.2f}%\".format(100*acc))"
   ]
  },
  {
   "cell_type": "code",
   "execution_count": null,
   "id": "224406a2-47bd-4d08-bea9-846f319b4658",
   "metadata": {},
   "outputs": [],
   "source": []
  }
 ],
 "metadata": {
  "kernelspec": {
   "display_name": "Python 3 (ipykernel)",
   "language": "python",
   "name": "python3"
  },
  "language_info": {
   "codemirror_mode": {
    "name": "ipython",
    "version": 3
   },
   "file_extension": ".py",
   "mimetype": "text/x-python",
   "name": "python",
   "nbconvert_exporter": "python",
   "pygments_lexer": "ipython3",
   "version": "3.7.10"
  }
 },
 "nbformat": 4,
 "nbformat_minor": 5
}
